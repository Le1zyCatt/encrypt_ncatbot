{
 "cells": [
  {
   "cell_type": "markdown",
   "id": "dfd642c4",
   "metadata": {},
   "source": [
    "1.生成p和q大质数"
   ]
  },
  {
   "cell_type": "code",
   "execution_count": 4,
   "id": "18ec3c27",
   "metadata": {},
   "outputs": [
    {
     "name": "stdout",
     "output_type": "stream",
     "text": [
      "p = 56632976249584754274316733999592386419720100331515095444735830885675276019534173263110027897235485886220284648971727820559115740536836367727681070478635408354957819995733965073278256948170199179439420726989848176430573486243579714708527981725580108927265085323969403983729070882797152218062977817198901291181\n",
      "q = 19134250024328708356173639309818122561792574603563805259751909035633794930768279035205153447690526891722860816936027439024515715299557776491318690349927570977668832442009047404918325937124763879735944811762068539807693256270289673585013312625838458305923395852479466553094402897884939489580628793086492080391\n"
     ]
    }
   ],
   "source": [
    "import gmpy2\n",
    "import random\n",
    "\n",
    "def generate_large_prime(bits=1024):\n",
    "    return gmpy2.next_prime(random.getrandbits(bits))\n",
    "\n",
    "p = generate_large_prime(1024)\n",
    "q = generate_large_prime(1024)\n",
    "\n",
    "print(\"p =\", p)\n",
    "print(\"q =\", q)"
   ]
  },
  {
   "cell_type": "markdown",
   "id": "73c48e6b",
   "metadata": {},
   "source": [
    "2.根据p和q生成n、d、e，其中公钥是(n,e)，私钥是(n,d)。"
   ]
  },
  {
   "cell_type": "code",
   "execution_count": 12,
   "id": "110f336b",
   "metadata": {},
   "outputs": [
    {
     "name": "stdout",
     "output_type": "stream",
     "text": [
      "Using (p, q) to calculate RSA paramaters\n",
      "\n",
      "n =\n",
      "89580fb28fb971248fbfbacfd9ea85fc52cd5ed68e875bbf30ad67e621651dceca9b312c2bce5aea\n",
      "c0f34ea7b70edd5bcaf472255a16a4c8c7f2f600311b070ab20d0fb0cec3b1149082a0019c4955c8\n",
      "f0c1fb6e8ec6459885fd0a85d615bed8ce27c180c855713e43704b1d06f1708030dd1fec7b6ffab2\n",
      "c657c3a1ecd3f4a751c6f6903d4ec2fbee4d67da7b9141715681d08fb71ec74e7ff18818da3bb8e9\n",
      "6676d5ae671a80ebf36d0606ac7c013fc66aa0a4f3c5acde0b80e61f8d024fe1aed114717f906017\n",
      "ceeccc309bd40c6dd037e04e37c5279b7dbd4c8495f4725a062e00a9b692b9a6c8571ca79b22bf68\n",
      "eba26e8afabd523758e7a22970021bb\n",
      "\n",
      "e = 65537 (0x10001)\n",
      "\n",
      "d =\n",
      "6c624810fb86b618ca2fddb6851ba41c9923648220fc0494fe4ef9bd0c0185e258d4db9b25feb494\n",
      "a92bd89855c7af3bef0fb4bc71398954c125a4a84618341866a61409cd41750eeb7389dd7b7e0bea\n",
      "84c4302cf112da7d20cfad6c2ca400758b4aa8537ec49e972a1505d1a4570816c178dee67a0ac666\n",
      "2a4bbc209e8a2d7442a5f4e6583ed2e80ac456ce3abaa8464472e0a1ed4d87eb77403e7111c4d1a2\n",
      "a52cae0308e37d62502cafa5439cd40fc8b110bb216f8c80d63857d8a8036873e7a084f733ec9437\n",
      "9d067c7dc5b9b680728c182f355447b5935594fa27277ea6ab6c77837d68126b0a3b5d71392eda67\n",
      "bdeba77d66a909ba17ef0f1d93bd031\n",
      "\n",
      "p =\n",
      "50a5e5a2564e748e3d336112ea28e5b76da814cf3b2528809bb3d11f1090b81a9e2ecfc2f77fc1c4\n",
      "005a7be1e1fc2a7df5a4e4661853e02c1abec38f4f41d0edf4319be3490833ff4f2c78d99e697db1\n",
      "14c55d845d54a216b993fd01ab66ad1dc55eba732a6097b016609000b7d809e143da983d55481ee9\n",
      "703348244a3f68ad\n",
      "\n",
      "q =\n",
      "1b3f81f1067946fb1ee61b0408bade4b26158915dc24b1b89008f90fccd21451ed497816890dc17b\n",
      "89a4f5d61a369fbd47bfc638c699dc2e0da1869cd8ca119e380cf84ed5323c6924440711625c4e89\n",
      "3b39b7dcb792ef563447e3ca154da3b7df20ecbde2d41fa03cbaac9294133fc91d95dc782aa173ba\n",
      "7b1289c576c4f907\n",
      "\n",
      "Saving PEM as private.pem\n"
     ]
    }
   ],
   "source": [
    "#!python setup.py install #安装依赖\n",
    "!python rsatool.py -p {p} -q {q} -o private.pem"
   ]
  },
  {
   "cell_type": "markdown",
   "id": "c675ef8d",
   "metadata": {},
   "source": [
    "3.从私钥文件当中提取公钥。（私钥文件中存有公钥（就是公钥指数e和n））"
   ]
  },
  {
   "cell_type": "code",
   "execution_count": 13,
   "id": "8b113631",
   "metadata": {},
   "outputs": [
    {
     "name": "stdout",
     "output_type": "stream",
     "text": [
      "公钥已成功提取并保存为 public.pem\n"
     ]
    }
   ],
   "source": [
    "from cryptography.hazmat.primitives import serialization\n",
    "from cryptography.hazmat.primitives.serialization import load_pem_private_key\n",
    "\n",
    "# 1. 加载私钥文件\n",
    "with open(\"private.pem\", \"rb\") as f:\n",
    "    private_key = load_pem_private_key(f.read(), password=None)\n",
    "\n",
    "# 2. 提取公钥\n",
    "public_key = private_key.public_key()\n",
    "\n",
    "# 3. 将公钥保存为 PEM 格式文件\n",
    "pem = public_key.public_bytes(\n",
    "    encoding=serialization.Encoding.PEM,\n",
    "    format=serialization.PublicFormat.SubjectPublicKeyInfo\n",
    ")\n",
    "\n",
    "with open(\"public.pem\", \"wb\") as f:\n",
    "    f.write(pem)\n",
    "\n",
    "print(\"公钥已成功提取并保存为 public.pem\")"
   ]
  },
  {
   "cell_type": "markdown",
   "id": "7d193c13",
   "metadata": {},
   "source": [
    "4.加载公钥，并对信息（message变量）进行加密。这里用的是OAEP填充，使用了哈希算法和随机数，因此每次密文不同。"
   ]
  },
  {
   "cell_type": "code",
   "execution_count": 14,
   "id": "395c36ed",
   "metadata": {},
   "outputs": [
    {
     "name": "stdout",
     "output_type": "stream",
     "text": [
      "加密后的数据（Hex 编码）:\n",
      "10dc5091b5ec70467fd188db7789960f45dba9d8e81647693740e7f65f87f019ff41e425daa0a67262ceb9e342e488727789040c77a135fb4e3af692824eee64936069528aaa6108598c90a6a2292d592d4ef3f7da8cf9c7b9d303cb0684791639acabb27d089dfb9d6ffafb9227a56eeb69e23f9453c41f1aa935c4c1927047cbf05c533beffa2345a81c24927ac0a84158ac216fd50d5c687b48f7e69af3629cfa78e5682abfb2942a25bc17d73b1655ecdae54519bf96c9eb2c230fd4e40966bd5792b57ec7310065a2d52791d37bffb99e8106b0d32983f5c7af5a84ea8c380125795cbc53e6cca3f60fe7ef50213572a59bb69c45f9e894d2eaf210f85a\n",
      "加密完成，并已保存到 encrypted.bin\n"
     ]
    }
   ],
   "source": [
    "from cryptography.hazmat.primitives import serialization, hashes\n",
    "from cryptography.hazmat.primitives.asymmetric import padding\n",
    "\n",
    "# -------------------------------\n",
    "# 步骤1：从 PEM 文件中加载公钥\n",
    "# -------------------------------\n",
    "\n",
    "with open(\"public.pem\", \"rb\") as f:\n",
    "    public_key = serialization.load_pem_public_key(f.read())\n",
    "\n",
    "# -------------------------------\n",
    "# 步骤2：定义要加密的消息（必须是 bytes 类型）\n",
    "# -------------------------------\n",
    "\n",
    "message = \"原神启动！\".encode('utf-8')\n",
    "\n",
    "# -------------------------------\n",
    "# 步骤3：使用公钥进行 RSA 加密（OAEP 填充）\n",
    "# -------------------------------\n",
    "\n",
    "encrypted = public_key.encrypt(\n",
    "    message,\n",
    "    padding.OAEP(\n",
    "        mgf=padding.MGF1(algorithm=hashes.SHA256()),\n",
    "        algorithm=hashes.SHA256(),\n",
    "        label=None\n",
    "    )\n",
    ")\n",
    "\n",
    "# -------------------------------\n",
    "# 步骤4：输出加密结果（通常以十六进制或 Base64 编码传输）\n",
    "# -------------------------------\n",
    "\n",
    "print(\"加密后的数据（Hex 编码）:\")\n",
    "print(encrypted.hex())\n",
    "\n",
    "# 保存加密结果到文件\n",
    "with open(\"encrypted.bin\", \"wb\") as f:\n",
    "    f.write(encrypted)\n",
    "\n",
    "print(\"加密完成，并已保存到 encrypted.bin\")"
   ]
  },
  {
   "cell_type": "markdown",
   "id": "487a891a",
   "metadata": {},
   "source": [
    "5.读取密文，使用私钥解密。"
   ]
  },
  {
   "cell_type": "code",
   "execution_count": 19,
   "id": "719171a2",
   "metadata": {},
   "outputs": [
    {
     "name": "stdout",
     "output_type": "stream",
     "text": [
      "解密后的消息：\n",
      "原神启动！\n"
     ]
    }
   ],
   "source": [
    "from cryptography.hazmat.primitives import serialization, hashes\n",
    "from cryptography.hazmat.primitives.asymmetric import padding\n",
    "\n",
    "# -------------------------------\n",
    "# 步骤1：从 PEM 文件中加载私钥\n",
    "# -------------------------------\n",
    "\n",
    "with open(\"private.pem\", \"rb\") as f:\n",
    "    private_key = serialization.load_pem_private_key(\n",
    "        f.read(),\n",
    "        password=None  # 如果私钥有密码保护，请传入相应密码\n",
    "    )\n",
    "\n",
    "# -------------------------------\n",
    "# 步骤2：读取加密的数据（假设是 Hex 编码）\n",
    "# -------------------------------\n",
    "with open(\"encrypted.bin\", \"rb\") as f:\n",
    "    encrypted = f.read()\n",
    "\n",
    "# -------------------------------\n",
    "# 步骤3：使用私钥进行 RSA 解密（OAEP 填充）\n",
    "# -------------------------------\n",
    "\n",
    "decrypted = private_key.decrypt(\n",
    "    encrypted,\n",
    "    padding.OAEP(\n",
    "        mgf=padding.MGF1(algorithm=hashes.SHA256()),\n",
    "        algorithm=hashes.SHA256(),\n",
    "        label=None\n",
    "    )\n",
    ")\n",
    "\n",
    "# -------------------------------\n",
    "# 步骤4：输出解密后的消息\n",
    "# -------------------------------\n",
    "\n",
    "print(\"解密后的消息：\")\n",
    "print(decrypted.decode('utf-8'))"
   ]
  },
  {
   "cell_type": "markdown",
   "id": "084687d3",
   "metadata": {},
   "source": [
    "# 总结\n",
    "1. 生成p、q。  \n",
    "2. 根据p、q生成密钥对并保存在private.pem当中。  \n",
    "3. 从私钥文件中读取公钥，并保存在public.pem当中。  \n",
    "4. 使用public.pem对信息进行加密，当中使用OAEP填充方法，并保存在encrypted.bin当中。  \n",
    "5. 读取private.pem的私钥，并使用私钥解密信息并打印。  \n",
    "  \n",
    "# 补充\n",
    "1. 裸rsa存在隐患，即相同的明文会生成相同的密文，可以被多种手段破解。因此需要引入随机的因素，OAEP就是目前最主流最安全的填充方法。虽然这是一个可逆的过程，但是可以**防止确定性加密攻击**和**增强抗选择性密文攻击能力**。    \n",
    "2. 全程使用utf-8编码，OAEP填充的参数mgf是MGF1(SHA-256)，主哈希是SHA-256。说是哈希算法保持一致比较常见。mgf是一个伪随机哈希函数，根据它的哈希算法和要求的长度参数生成指定长度的伪随机序列。  \n",
    "3. 2048位、1024位，这里的位指的是二进制位，十进制下大概有309和617位。  "
   ]
  },
  {
   "cell_type": "code",
   "execution_count": null,
   "id": "a34f33ea",
   "metadata": {},
   "outputs": [],
   "source": [
    "from cryptography.hazmat.primitives import serialization, hashes\n",
    "from cryptography.hazmat.primitives.asymmetric import padding\n",
    "\n",
    "# -------------------------------\n",
    "# 步骤1：从 PEM 文件中加载私钥\n",
    "# -------------------------------\n",
    "\n",
    "with open(\"ttt.pem\", \"rb\") as f:\n",
    "    private_key = serialization.load_pem_private_key(\n",
    "        f.read(),\n",
    "        password=None  # 如果私钥有密码保护，请传入相应密码\n",
    "    )\n",
    "\n",
    "# -------------------------------\n",
    "# 步骤2：读取加密的数据（假设是 Hex 编码）\n",
    "# -------------------------------\n",
    "with open(\"tt.bin\", \"rb\") as f:\n",
    "    encrypted = f.read()\n",
    "\n",
    "# -------------------------------\n",
    "# 步骤3：使用私钥进行 RSA 解密（OAEP 填充）\n",
    "# -------------------------------\n",
    "\n",
    "decrypted = private_key.decrypt(\n",
    "    encrypted,\n",
    "    padding.OAEP(\n",
    "        mgf=padding.MGF1(algorithm=hashes.SHA256()),\n",
    "        algorithm=hashes.SHA256(),\n",
    "        label=None\n",
    "    )\n",
    ")\n",
    "\n",
    "# -------------------------------\n",
    "# 步骤4：输出解密后的消息\n",
    "# -------------------------------\n",
    "\n",
    "print(\"解密后的消息：\")\n",
    "print(decrypted.decode('utf-8'))"
   ]
  }
 ],
 "metadata": {
  "kernelspec": {
   "display_name": "py3d",
   "language": "python",
   "name": "python3"
  },
  "language_info": {
   "codemirror_mode": {
    "name": "ipython",
    "version": 3
   },
   "file_extension": ".py",
   "mimetype": "text/x-python",
   "name": "python",
   "nbconvert_exporter": "python",
   "pygments_lexer": "ipython3",
   "version": "3.9.21"
  }
 },
 "nbformat": 4,
 "nbformat_minor": 5
}
